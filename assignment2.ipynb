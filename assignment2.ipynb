{
 "cells": [
  {
   "metadata": {},
   "cell_type": "markdown",
   "source": [
    "# This is a sample Jupyter Notebook\n",
    "\n",
    "Below is an example of a code cell. \n",
    "Put your cursor into the cell and press Shift+Enter to execute it and select the next one, or click 'Run Cell' button.\n",
    "\n",
    "Press Double Shift to search everywhere for classes, files, tool windows, actions, and settings.\n",
    "\n",
    "To learn more about Jupyter Notebooks in PyCharm, see [help](https://www.jetbrains.com/help/pycharm/ipython-notebook-support.html).\n",
    "For an overview of PyCharm, go to Help -> Learn IDE features or refer to [our documentation](https://www.jetbrains.com/help/pycharm/getting-started.html)."
   ],
   "id": "8a77807f92f26ee"
  },
  {
   "metadata": {
    "ExecuteTime": {
     "end_time": "2024-11-07T14:09:44.671732Z",
     "start_time": "2024-11-07T14:09:44.667582Z"
    }
   },
   "cell_type": "code",
   "outputs": [],
   "execution_count": 1,
   "source": [
    "import pandas as pd\n",
    "import numpy as np\n",
    "import matplotlib.pyplot as plt\n",
    "import os\n",
    "import seaborn as sns\n",
    "\n"
   ],
   "id": "fbc121e30a2defb3"
  },
  {
   "metadata": {
    "ExecuteTime": {
     "end_time": "2024-11-07T14:13:52.606535Z",
     "start_time": "2024-11-07T14:12:45.936269Z"
    }
   },
   "cell_type": "code",
   "source": [
    "directory=\"aclImdb_v1/aclImdb\"\n",
    "text_list=[]\n",
    "label_list=[]\n",
    "for data_type in [\"train\",\"test\"]:\n",
    "    for s in [\"pos\", \"neg\"]:\n",
    "        path=os.path.join(directory,data_type,s)\n",
    "        if s==\"pos\":\n",
    "            label=1\n",
    "        else:\n",
    "            label=0\n",
    "        for filename in os.listdir(path):\n",
    "            if filename.endswith(\".txt\"):\n",
    "                with open(os.path.join(path, filename), \"r\", encoding=\"utf-8\") as file:\n",
    "                    text_list.append(file.read())\n",
    "                    label_list.append(label)\n",
    "combined_data = pd.DataFrame({\"review\": text_list, \"label\": label_list})"
   ],
   "id": "522cf1f88a61260e",
   "outputs": [],
   "execution_count": 3
  },
  {
   "metadata": {
    "ExecuteTime": {
     "end_time": "2024-11-07T14:13:57.783092Z",
     "start_time": "2024-11-07T14:13:57.774987Z"
    }
   },
   "cell_type": "code",
   "source": "combined_data.shape",
   "id": "a524a23d09c20e41",
   "outputs": [
    {
     "data": {
      "text/plain": [
       "(50000, 2)"
      ]
     },
     "execution_count": 4,
     "metadata": {},
     "output_type": "execute_result"
    }
   ],
   "execution_count": 4
  },
  {
   "metadata": {
    "ExecuteTime": {
     "end_time": "2024-11-07T14:13:59.350122Z",
     "start_time": "2024-11-07T14:13:59.338102Z"
    }
   },
   "cell_type": "code",
   "source": "combined_data.head()",
   "id": "9a0f5843a86fb8bc",
   "outputs": [
    {
     "data": {
      "text/plain": [
       "                                              review  label\n",
       "0  Bromwell High is a cartoon comedy. It ran at t...      1\n",
       "1  Homelessness (or Houselessness as George Carli...      1\n",
       "2  Brilliant over-acting by Lesley Ann Warren. Be...      1\n",
       "3  This is easily the most underrated film inn th...      1\n",
       "4  This is not the typical Mel Brooks film. It wa...      1"
      ],
      "text/html": [
       "<div>\n",
       "<style scoped>\n",
       "    .dataframe tbody tr th:only-of-type {\n",
       "        vertical-align: middle;\n",
       "    }\n",
       "\n",
       "    .dataframe tbody tr th {\n",
       "        vertical-align: top;\n",
       "    }\n",
       "\n",
       "    .dataframe thead th {\n",
       "        text-align: right;\n",
       "    }\n",
       "</style>\n",
       "<table border=\"1\" class=\"dataframe\">\n",
       "  <thead>\n",
       "    <tr style=\"text-align: right;\">\n",
       "      <th></th>\n",
       "      <th>review</th>\n",
       "      <th>label</th>\n",
       "    </tr>\n",
       "  </thead>\n",
       "  <tbody>\n",
       "    <tr>\n",
       "      <th>0</th>\n",
       "      <td>Bromwell High is a cartoon comedy. It ran at t...</td>\n",
       "      <td>1</td>\n",
       "    </tr>\n",
       "    <tr>\n",
       "      <th>1</th>\n",
       "      <td>Homelessness (or Houselessness as George Carli...</td>\n",
       "      <td>1</td>\n",
       "    </tr>\n",
       "    <tr>\n",
       "      <th>2</th>\n",
       "      <td>Brilliant over-acting by Lesley Ann Warren. Be...</td>\n",
       "      <td>1</td>\n",
       "    </tr>\n",
       "    <tr>\n",
       "      <th>3</th>\n",
       "      <td>This is easily the most underrated film inn th...</td>\n",
       "      <td>1</td>\n",
       "    </tr>\n",
       "    <tr>\n",
       "      <th>4</th>\n",
       "      <td>This is not the typical Mel Brooks film. It wa...</td>\n",
       "      <td>1</td>\n",
       "    </tr>\n",
       "  </tbody>\n",
       "</table>\n",
       "</div>"
      ]
     },
     "execution_count": 5,
     "metadata": {},
     "output_type": "execute_result"
    }
   ],
   "execution_count": 5
  },
  {
   "metadata": {
    "ExecuteTime": {
     "end_time": "2024-11-07T14:14:02.240125Z",
     "start_time": "2024-11-07T14:14:02.231554Z"
    }
   },
   "cell_type": "code",
   "source": "combined_data.tail()",
   "id": "e22dff7127582a5e",
   "outputs": [
    {
     "data": {
      "text/plain": [
       "                                                  review  label\n",
       "49995  I occasionally let my kids watch this garbage ...      0\n",
       "49996  When all we have anymore is pretty much realit...      0\n",
       "49997  The basic genre is a thriller intercut with an...      0\n",
       "49998  Four things intrigued me as to this film - fir...      0\n",
       "49999  David Bryce's comments nearby are exceptionall...      0"
      ],
      "text/html": [
       "<div>\n",
       "<style scoped>\n",
       "    .dataframe tbody tr th:only-of-type {\n",
       "        vertical-align: middle;\n",
       "    }\n",
       "\n",
       "    .dataframe tbody tr th {\n",
       "        vertical-align: top;\n",
       "    }\n",
       "\n",
       "    .dataframe thead th {\n",
       "        text-align: right;\n",
       "    }\n",
       "</style>\n",
       "<table border=\"1\" class=\"dataframe\">\n",
       "  <thead>\n",
       "    <tr style=\"text-align: right;\">\n",
       "      <th></th>\n",
       "      <th>review</th>\n",
       "      <th>label</th>\n",
       "    </tr>\n",
       "  </thead>\n",
       "  <tbody>\n",
       "    <tr>\n",
       "      <th>49995</th>\n",
       "      <td>I occasionally let my kids watch this garbage ...</td>\n",
       "      <td>0</td>\n",
       "    </tr>\n",
       "    <tr>\n",
       "      <th>49996</th>\n",
       "      <td>When all we have anymore is pretty much realit...</td>\n",
       "      <td>0</td>\n",
       "    </tr>\n",
       "    <tr>\n",
       "      <th>49997</th>\n",
       "      <td>The basic genre is a thriller intercut with an...</td>\n",
       "      <td>0</td>\n",
       "    </tr>\n",
       "    <tr>\n",
       "      <th>49998</th>\n",
       "      <td>Four things intrigued me as to this film - fir...</td>\n",
       "      <td>0</td>\n",
       "    </tr>\n",
       "    <tr>\n",
       "      <th>49999</th>\n",
       "      <td>David Bryce's comments nearby are exceptionall...</td>\n",
       "      <td>0</td>\n",
       "    </tr>\n",
       "  </tbody>\n",
       "</table>\n",
       "</div>"
      ]
     },
     "execution_count": 6,
     "metadata": {},
     "output_type": "execute_result"
    }
   ],
   "execution_count": 6
  },
  {
   "metadata": {
    "ExecuteTime": {
     "end_time": "2024-11-07T14:14:05.552572Z",
     "start_time": "2024-11-07T14:14:05.541341Z"
    }
   },
   "cell_type": "code",
   "source": "combined_data[\"review\"].isnull().sum()",
   "id": "b7b5f2aa6bc1ff9a",
   "outputs": [
    {
     "data": {
      "text/plain": [
       "0"
      ]
     },
     "execution_count": 7,
     "metadata": {},
     "output_type": "execute_result"
    }
   ],
   "execution_count": 7
  },
  {
   "metadata": {
    "ExecuteTime": {
     "end_time": "2024-11-07T14:14:07.927519Z",
     "start_time": "2024-11-07T14:14:07.917513Z"
    }
   },
   "cell_type": "code",
   "source": [
    "print(\"Total Number of positive reviews in data: \", combined_data[combined_data['label']==1].shape[0])\n",
    "print(\"Total Number of negative reviews in data: \", combined_data[combined_data['label']==0].shape[0])"
   ],
   "id": "19e110142b5851c8",
   "outputs": [
    {
     "name": "stdout",
     "output_type": "stream",
     "text": [
      "Total Number of positive reviews in data:  25000\n",
      "Total Number of negative reviews in data:  25000\n"
     ]
    }
   ],
   "execution_count": 8
  },
  {
   "metadata": {
    "ExecuteTime": {
     "end_time": "2024-11-07T14:18:53.310851Z",
     "start_time": "2024-11-07T14:18:51.856015Z"
    }
   },
   "cell_type": "code",
   "source": [
    "plt.figure(figsize=(12,8))\n",
    "count_of_reviews=combined_data['review'].apply(lambda x: len(x.split()))\n",
    "sns.histplot(count_of_reviews,bins=50,kde=True,color='yellow')\n",
    "plt.title('Distribution of count of reviews')\n",
    "plt.xlabel('Number of Words')\n",
    "plt.ylabel('Frequenct')\n",
    "plt.xlim(0, 300)\n",
    "plt.show()\n"
   ],
   "id": "bcaa3f2cb09c894e",
   "outputs": [
    {
     "data": {
      "text/plain": [
       "<Figure size 1200x800 with 1 Axes>"
      ],
      "image/png": "[encoded data removed]"
     },
     "metadata": {},
     "output_type": "display_data"
    }
   ],
   "execution_count": 9
  },
  {
   "metadata": {
    "ExecuteTime": {
     "end_time": "2024-11-07T14:18:58.259112Z",
     "start_time": "2024-11-07T14:18:58.247710Z"
    }
   },
   "cell_type": "code",
   "source": "count_of_reviews.describe()",
   "id": "bd1916f338593a86",
   "outputs": [
    {
     "data": {
      "text/plain": [
       "count    50000.000000\n",
       "mean       231.156940\n",
       "std        171.343997\n",
       "min          4.000000\n",
       "25%        126.000000\n",
       "50%        173.000000\n",
       "75%        280.000000\n",
       "max       2470.000000\n",
       "Name: review, dtype: float64"
      ]
     },
     "execution_count": 10,
     "metadata": {},
     "output_type": "execute_result"
    }
   ],
   "execution_count": 10
  },
  {
   "metadata": {
    "ExecuteTime": {
     "end_time": "2024-11-07T14:19:00.419913Z",
     "start_time": "2024-11-07T14:19:00.301211Z"
    }
   },
   "cell_type": "code",
   "source": [
    "plt.boxplot(count_of_reviews)\n",
    "plt.grid(True)\n",
    "plt.title(\"Distribution\")\n",
    "plt.ylabel(\"Word Number\")\n",
    "plt.show()"
   ],
   "id": "41958164f095d5ec",
   "outputs": [
    {
     "data": {
      "text/plain": [
       "<Figure size 640x480 with 1 Axes>"
      ],
      "image/png": "[encoded data removed]"
     },
     "metadata": {},
     "output_type": "display_data"
    }
   ],
   "execution_count": 11
  },
  {
   "metadata": {
    "ExecuteTime": {
     "end_time": "2024-11-07T14:19:06.942775Z",
     "start_time": "2024-11-07T14:19:06.148419Z"
    }
   },
   "cell_type": "code",
   "source": [
    "plt.figure(figsize=(12,8))\n",
    "sns.histplot(data=combined_data, x=count_of_reviews, bins=50, kde=True, hue='label', palette=['yellow', 'blue'])\n",
    "plt.title(\"Word Count Distribution by Review Label\")\n",
    "plt.xlabel(\"Number of Words\")\n",
    "plt.ylabel(\"Frequency\")\n",
    "plt.xlim(0,300)\n",
    "plt.show()\n"
   ],
   "id": "fdad59819b470d7c",
   "outputs": [
    {
     "data": {
      "text/plain": [
       "<Figure size 1200x800 with 1 Axes>"
      ],
      "image/png": "[encoded data removed]"
     },
     "metadata": {},
     "output_type": "display_data"
    }
   ],
   "execution_count": 12
  },
  {
   "metadata": {
    "ExecuteTime": {
     "end_time": "2024-11-07T14:19:28.572665Z",
     "start_time": "2024-11-07T14:19:28.567618Z"
    }
   },
   "cell_type": "code",
   "source": "copy_df=combined_data.copy()",
   "id": "644a4baeccbab527",
   "outputs": [],
   "execution_count": 14
  },
  {
   "metadata": {
    "ExecuteTime": {
     "end_time": "2024-11-09T12:55:11.795541Z",
     "start_time": "2024-11-09T12:55:11.620932Z"
    }
   },
   "cell_type": "code",
   "source": [
    "from sklearn.model_selection import train_test_split\n",
    "train_data, test_data = train_test_split(combined_data, test_size=0.2, random_state=42)"
   ],
   "id": "13334b8894bbe8ac",
   "outputs": [],
   "execution_count": 159
  },
  {
   "metadata": {
    "ExecuteTime": {
     "end_time": "2024-11-09T12:55:24.766592Z",
     "start_time": "2024-11-09T12:55:24.758436Z"
    }
   },
   "cell_type": "code",
   "source": "train_data.shape",
   "id": "55db71104a3c2ccc",
   "outputs": [
    {
     "data": {
      "text/plain": [
       "(40000, 2)"
      ]
     },
     "execution_count": 160,
     "metadata": {},
     "output_type": "execute_result"
    }
   ],
   "execution_count": 160
  },
  {
   "metadata": {
    "ExecuteTime": {
     "end_time": "2024-11-09T12:55:35.783681Z",
     "start_time": "2024-11-09T12:55:35.778782Z"
    }
   },
   "cell_type": "code",
   "source": "test_data.shape",
   "id": "aad6da76664e12",
   "outputs": [
    {
     "data": {
      "text/plain": [
       "(10000, 2)"
      ]
     },
     "execution_count": 161,
     "metadata": {},
     "output_type": "execute_result"
    }
   ],
   "execution_count": 161
  },
  {
   "metadata": {
    "ExecuteTime": {
     "end_time": "2024-11-09T13:20:18.952475Z",
     "start_time": "2024-11-09T13:20:18.942007Z"
    }
   },
   "cell_type": "code",
   "source": "train_data.head()",
   "id": "858fb0ff122b6f92",
   "outputs": [
    {
     "data": {
      "text/plain": [
       "                                                  review  label\n",
       "39087  Ah, here it is! A movie, which is said by peop...      0\n",
       "30893  I saw this movie on PBS the first time. Then I...      1\n",
       "45278  At the beginning of 'Loggerheads', we're intro...      0\n",
       "16398  For the life of me, I cannot get why they woul...      0\n",
       "13653  I always wrote this series off as being a comp...      0"
      ],
      "text/html": [
       "<div>\n",
       "<style scoped>\n",
       "    .dataframe tbody tr th:only-of-type {\n",
       "        vertical-align: middle;\n",
       "    }\n",
       "\n",
       "    .dataframe tbody tr th {\n",
       "        vertical-align: top;\n",
       "    }\n",
       "\n",
       "    .dataframe thead th {\n",
       "        text-align: right;\n",
       "    }\n",
       "</style>\n",
       "<table border=\"1\" class=\"dataframe\">\n",
       "  <thead>\n",
       "    <tr style=\"text-align: right;\">\n",
       "      <th></th>\n",
       "      <th>review</th>\n",
       "      <th>label</th>\n",
       "    </tr>\n",
       "  </thead>\n",
       "  <tbody>\n",
       "    <tr>\n",
       "      <th>39087</th>\n",
       "      <td>Ah, here it is! A movie, which is said by peop...</td>\n",
       "      <td>0</td>\n",
       "    </tr>\n",
       "    <tr>\n",
       "      <th>30893</th>\n",
       "      <td>I saw this movie on PBS the first time. Then I...</td>\n",
       "      <td>1</td>\n",
       "    </tr>\n",
       "    <tr>\n",
       "      <th>45278</th>\n",
       "      <td>At the beginning of 'Loggerheads', we're intro...</td>\n",
       "      <td>0</td>\n",
       "    </tr>\n",
       "    <tr>\n",
       "      <th>16398</th>\n",
       "      <td>For the life of me, I cannot get why they woul...</td>\n",
       "      <td>0</td>\n",
       "    </tr>\n",
       "    <tr>\n",
       "      <th>13653</th>\n",
       "      <td>I always wrote this series off as being a comp...</td>\n",
       "      <td>0</td>\n",
       "    </tr>\n",
       "  </tbody>\n",
       "</table>\n",
       "</div>"
      ]
     },
     "execution_count": 162,
     "metadata": {},
     "output_type": "execute_result"
    }
   ],
   "execution_count": 162
  },
  {
   "metadata": {
    "ExecuteTime": {
     "end_time": "2024-11-09T13:24:05.507346Z",
     "start_time": "2024-11-09T13:24:05.490511Z"
    }
   },
   "cell_type": "code",
   "source": [
    "positive_reviews_train=train_data[train_data[\"label\"] == 1][\"review\"].tolist()\n",
    "negative_reviews_train=train_data[train_data[\"label\"] == 0][\"review\"].tolist()"
   ],
   "id": "23bf24800ddabe47",
   "outputs": [],
   "execution_count": 165
  },
  {
   "metadata": {
    "ExecuteTime": {
     "end_time": "2024-11-07T14:19:40.250044Z",
     "start_time": "2024-11-07T14:19:40.245882Z"
    }
   },
   "cell_type": "code",
   "source": [
    "def n_gram(input,n):\n",
    "    input=input.split()\n",
    "    output=[]\n",
    "    for i in range(len(input)-n+1):\n",
    "        output.append(input[i:i+n])\n",
    "    return output\n",
    "    "
   ],
   "id": "b03d445b2e5823f9",
   "outputs": [],
   "execution_count": 15
  },
  {
   "metadata": {
    "ExecuteTime": {
     "end_time": "2024-11-08T20:55:30.932210Z",
     "start_time": "2024-11-08T20:55:30.913969Z"
    }
   },
   "cell_type": "code",
   "source": [
    "def n_gram_with_punctuation(input,n):\n",
    "    input=input.split()\n",
    "    output=[]\n",
    "    for word in input:\n",
    "        if word[-1] in \".,!?;:<>/\":\n",
    "        #if word[-1] in \".,!?;:\":\n",
    "            output.append(word[:-1]) \n",
    "            output.append(word[-1])\n",
    "        else:\n",
    "            output.append(word)\n",
    "    output = list(map(str, output))\n",
    "    ngrams=[' '.join(output[i:i+n]) for i in range(len(output) - n + 1)]\n",
    "    return ngrams\n",
    "\n",
    "    "
   ],
   "id": "7b54dddc64822eae",
   "outputs": [],
   "execution_count": 118
  },
  {
   "metadata": {
    "ExecuteTime": {
     "end_time": "2024-11-08T15:21:33.880556Z",
     "start_time": "2024-11-08T15:21:33.875381Z"
    }
   },
   "cell_type": "code",
   "source": [
    "sample_text=\"Lorem ipsum dolor sit amet, consectetur adipiscing elit.\"\n",
    "print(n_gram_with_punctuation(sample_text,2))\n"
   ],
   "id": "31c1d39fb6fdd82e",
   "outputs": [
    {
     "name": "stdout",
     "output_type": "stream",
     "text": [
      "['Lorem ipsum', 'ipsum dolor', 'dolor sit', 'sit amet', 'amet ,', ', consectetur', 'consectetur adipiscing', 'adipiscing elit', 'elit .']\n"
     ]
    }
   ],
   "execution_count": 84
  },
  {
   "metadata": {
    "ExecuteTime": {
     "end_time": "2024-11-07T14:19:50.623013Z",
     "start_time": "2024-11-07T14:19:50.617886Z"
    }
   },
   "cell_type": "code",
   "source": "print(n_gram(sample_text,2))",
   "id": "e35dc70d90a1c9fa",
   "outputs": [
    {
     "name": "stdout",
     "output_type": "stream",
     "text": [
      "[['Lorem', 'ipsum'], ['ipsum', 'dolor'], ['dolor', 'sit'], ['sit', 'amet,'], ['amet,', 'consectetur'], ['consectetur', 'adipiscing'], ['adipiscing', 'elit.']]\n"
     ]
    }
   ],
   "execution_count": 18
  },
  {
   "metadata": {
    "ExecuteTime": {
     "end_time": "2024-11-08T22:36:51.516115Z",
     "start_time": "2024-11-08T22:36:51.511943Z"
    }
   },
   "cell_type": "code",
   "source": [
    "stop_word_list=[\"the\",\"is\",\"in\",\"and\",\"a\",\"an\",\"of\",\"to\",\"for\",\"with\",\"on\",\"at\",\"by\",\"that\",\"this\",\"it\",\"are\",\"was\"]\n",
    "def stop_word_remove(input):\n",
    "    input=input.split()\n",
    "    output=[word for word in input if word.lower() not in stop_word_list]\n",
    "    #return output\n",
    "    return ' '.join(output)"
   ],
   "id": "6d9241d39012b4eb",
   "outputs": [],
   "execution_count": 137
  },
  {
   "metadata": {
    "ExecuteTime": {
     "end_time": "2024-11-07T14:20:02.656109Z",
     "start_time": "2024-11-07T14:20:02.651201Z"
    }
   },
   "cell_type": "code",
   "source": [
    "sample_text_2=\"Take me down to the paradise city where the grass is green and the girls are pretty.\"\n",
    "print(stop_word_remove(sample_text_2))"
   ],
   "id": "ea9144fe5d85d5e8",
   "outputs": [
    {
     "name": "stdout",
     "output_type": "stream",
     "text": [
      "['Take', 'me', 'down', 'paradise', 'city', 'where', 'grass', 'green', 'girls', 'pretty.']\n"
     ]
    }
   ],
   "execution_count": 20
  },
  {
   "metadata": {
    "ExecuteTime": {
     "end_time": "2024-11-08T22:36:58.041595Z",
     "start_time": "2024-11-08T22:36:58.035419Z"
    }
   },
   "cell_type": "code",
   "source": [
    "def create_bow(data,n,is_use_punctuation):\n",
    "    bow_dict={}\n",
    "    for text in data:\n",
    "        text=stop_word_remove(text)\n",
    "        if is_use_punctuation:\n",
    "            ngram=n_gram_with_punctuation(text,n)\n",
    "        else:\n",
    "            ngram=n_gram(text,n)\n",
    "        for n_item in ngram:\n",
    "            if isinstance(n_item,list):\n",
    "                ngram_str = ' '.join(n_item)\n",
    "            else:\n",
    "                ngram_str = n_item\n",
    "            bow_dict[ngram_str] = bow_dict.get(ngram_str, 0) + 1           \n",
    "    return bow_dict"
   ],
   "id": "87cc89780ea2d25f",
   "outputs": [],
   "execution_count": 138
  },
  {
   "metadata": {
    "ExecuteTime": {
     "end_time": "2024-11-10T10:58:41.854466Z",
     "start_time": "2024-11-10T10:58:41.849512Z"
    }
   },
   "cell_type": "code",
   "source": [
    "sample=[  ##gpt text\n",
    "    \"The quick brown fox jumps over the lazy dog.\",\n",
    "    \"This is a test sentence for the bag of words model.\",\n",
    "    \"An example of creating bigrams in a sentence.\",\n",
    "    \"The bag of words approach is useful in NLP.\"\n",
    "]\n",
    "sample_result=create_bow(sample,1,True)\n",
    "print(\"Bow result of sample:\")\n",
    "for ngram, freq in sample_result.items():\n",
    "    print(f\"'{ngram}': {freq}\")"
   ],
   "id": "aa900aea76c797f9",
   "outputs": [
    {
     "name": "stdout",
     "output_type": "stream",
     "text": [
      "Bow result of sample:\n",
      "'quick': 1\n",
      "'brown': 1\n",
      "'fox': 1\n",
      "'jumps': 1\n",
      "'over': 1\n",
      "'lazy': 1\n",
      "'dog': 1\n",
      "'.': 4\n",
      "'test': 1\n",
      "'sentence': 2\n",
      "'bag': 2\n",
      "'words': 2\n",
      "'model': 1\n",
      "'example': 1\n",
      "'creating': 1\n",
      "'bigrams': 1\n",
      "'approach': 1\n",
      "'useful': 1\n",
      "'NLP': 1\n"
     ]
    }
   ],
   "execution_count": 263
  },
  {
   "metadata": {
    "ExecuteTime": {
     "end_time": "2024-11-09T07:31:05.255089Z",
     "start_time": "2024-11-09T07:31:05.243723Z"
    }
   },
   "cell_type": "code",
   "source": "review_list=combined_data[\"review\"].tolist()",
   "id": "8364965ebb09e28c",
   "outputs": [],
   "execution_count": 149
  },
  {
   "metadata": {
    "ExecuteTime": {
     "end_time": "2024-11-09T12:40:51.268365Z",
     "start_time": "2024-11-09T12:40:51.262383Z"
    }
   },
   "cell_type": "code",
   "source": [
    "import math\n",
    "def logaritmic_probabilities(bow_dict,word_count,size,laplace):\n",
    "    dict={}\n",
    "    for term, count in bow_dict.items():\n",
    "        smoothened_version=(count+laplace)/(word_count+(size*laplace))\n",
    "        dict[term]=math.log(smoothened_version)\n",
    "    unknown_probability=math.log(laplace/(word_count+(size*laplace)))\n",
    "    return dict,unknown_probability"
   ],
   "id": "8998eed9d017abf",
   "outputs": [],
   "execution_count": 154
  },
  {
   "metadata": {
    "ExecuteTime": {
     "end_time": "2024-11-09T15:21:44.280562Z",
     "start_time": "2024-11-09T15:21:44.276058Z"
    }
   },
   "cell_type": "code",
   "source": [
    "def naive_bayes(review,positive_logaritmic_probability,negative_logaritmic_probability,positive_unknown_probability,negative_unknown_probability,positive_prior,negative_prior):\n",
    "    words=review.split()\n",
    "    positive_score=math.log(positive_prior)\n",
    "    negative_score=math.log(negative_prior)\n",
    "    for word in words:\n",
    "        positive_score+=positive_logaritmic_probability.get(word,positive_unknown_probability)\n",
    "        negative_score+=negative_logaritmic_probability.get(word,negative_unknown_probability)\n",
    "    if positive_score>negative_score:\n",
    "        return 1\n",
    "    else:\n",
    "        return 0"
   ],
   "id": "64deb0d34eb7d0a3",
   "outputs": [],
   "execution_count": 197
  },
  {
   "metadata": {
    "ExecuteTime": {
     "end_time": "2024-11-10T11:29:24.383912Z",
     "start_time": "2024-11-10T11:29:24.378815Z"
    }
   },
   "cell_type": "code",
   "source": [
    "def calculate_accuracy(test_data,actual_labels):\n",
    "    correct_predictions = 0\n",
    "    for text, true_label in zip(test_data, actual_labels):\n",
    "        prediction=naive_bayes(text,positive_logaritmic_probability,negative_logaritmic_probability,positive_unknown_probability,negative_unknown_probability,positive_prior,negative_prior)\n",
    "        #print(prediction)\n",
    "        #print(true_label)\n",
    "        #print(\"----\")\n",
    "        if prediction == true_label:\n",
    "            correct_predictions+=1\n",
    "    accuracy=correct_predictions / len(test_data)\n",
    "    return accuracy"
   ],
   "id": "1102cf2ead5c2c5d",
   "outputs": [],
   "execution_count": 271
  },
  {
   "metadata": {
    "ExecuteTime": {
     "end_time": "2024-11-10T11:29:31.674044Z",
     "start_time": "2024-11-10T11:29:31.669267Z"
    }
   },
   "cell_type": "code",
   "source": [
    "def calculate_precision(test_data, actual_labels):\n",
    "    TP = 0\n",
    "    FP = 0\n",
    "    for text, true_label in zip(test_data, actual_labels):\n",
    "        prediction = naive_bayes(text, positive_logaritmic_probability, negative_logaritmic_probability, positive_unknown_probability, negative_unknown_probability, positive_prior, negative_prior)\n",
    "        if prediction == 1 and true_label == 1:\n",
    "            TP += 1\n",
    "        elif prediction == 1 and true_label == 0:\n",
    "            FP += 1\n",
    "    if TP+FP>0:\n",
    "        precision=TP/(TP+FP)\n",
    "    else:\n",
    "        precision=0\n",
    "    return precision\n",
    "\n",
    "\n"
   ],
   "id": "eb9ce737fe56d44",
   "outputs": [],
   "execution_count": 272
  },
  {
   "metadata": {
    "ExecuteTime": {
     "end_time": "2024-11-10T11:29:31.708483Z",
     "start_time": "2024-11-10T11:29:31.686172Z"
    }
   },
   "cell_type": "code",
   "source": [
    "def calculate_recall(test_data, actual_labels):\n",
    "    TP = 0\n",
    "    FN = 0\n",
    "    for text, true_label in zip(test_data,actual_labels):\n",
    "        prediction=naive_bayes(text, positive_logaritmic_probability, negative_logaritmic_probability, positive_unknown_probability, negative_unknown_probability, positive_prior, negative_prior)  \n",
    "        if prediction == 1 and true_label == 1:\n",
    "            TP+=1\n",
    "        elif prediction == 0 and true_label == 1:\n",
    "            FN+=1\n",
    "    if TP+FN>0:\n",
    "        recall=TP/(TP+FN)\n",
    "    else:\n",
    "        recall=0\n",
    "    return recall\n"
   ],
   "id": "163c93364a88c613",
   "outputs": [],
   "execution_count": 273
  },
  {
   "metadata": {
    "ExecuteTime": {
     "end_time": "2024-11-10T11:29:05.817061Z",
     "start_time": "2024-11-10T11:29:05.808731Z"
    }
   },
   "cell_type": "code",
   "source": [
    "test_texts = test_data[\"review\"].tolist()\n",
    "true_labels = test_data[\"label\"].tolist()\n"
   ],
   "id": "e91eff914e12caf1",
   "outputs": [],
   "execution_count": 269
  },
  {
   "metadata": {},
   "cell_type": "code",
   "outputs": [],
   "execution_count": null,
   "source": [
    "positive_prior=len(positive_reviews_train)/(len(positive_reviews_train)+len(negative_reviews_train))\n",
    "negative_prior=len(negative_reviews_train)/(len(positive_reviews_train)+len(negative_reviews_train))"
   ],
   "id": "882b30e42e56c752"
  },
  {
   "metadata": {
    "ExecuteTime": {
     "end_time": "2024-11-10T11:28:39.265549Z",
     "start_time": "2024-11-10T11:28:39.260537Z"
    }
   },
   "cell_type": "code",
   "outputs": [
    {
     "name": "stdout",
     "output_type": "stream",
     "text": [
      "Classification Results with Unigram and Punctuation are Below:\n"
     ]
    }
   ],
   "execution_count": 265,
   "source": [
    "## Classification Results with Unigram and Punctuation\n",
    "print(\"Classification Results with Unigram and Punctuation are Below:\")"
   ],
   "id": "eebd75f561f90ce1"
  },
  {
   "metadata": {
    "ExecuteTime": {
     "end_time": "2024-11-10T11:34:23.225977Z",
     "start_time": "2024-11-10T11:34:15.732613Z"
    }
   },
   "cell_type": "code",
   "outputs": [],
   "execution_count": 284,
   "source": [
    "bow_positive_unigram_with_punctuation=create_bow(positive_reviews_train, 1, True)\n",
    "bow_negative_unigram_with_punctuation=create_bow(negative_reviews_train, 1, True)"
   ],
   "id": "5d9aa4ac01027a15"
  },
  {
   "metadata": {
    "ExecuteTime": {
     "end_time": "2024-11-10T11:34:29.936163Z",
     "start_time": "2024-11-10T11:34:29.885380Z"
    }
   },
   "cell_type": "code",
   "outputs": [],
   "execution_count": 285,
   "source": "size=len(set(bow_positive_unigram_with_punctuation.keys()).union(bow_negative_unigram_with_punctuation.keys())) \n",
   "id": "fba96bdb55a96d12"
  },
  {
   "metadata": {
    "ExecuteTime": {
     "end_time": "2024-11-10T11:38:09.325187Z",
     "start_time": "2024-11-10T11:38:09.317652Z"
    }
   },
   "cell_type": "code",
   "outputs": [],
   "execution_count": 286,
   "source": [
    "total_positive_words=sum(bow_positive_unigram_with_punctuation.values())\n",
    "total_negative_words=sum(bow_negative_unigram_with_punctuation.values())"
   ],
   "id": "a364fd3968843d0f"
  },
  {
   "metadata": {
    "ExecuteTime": {
     "end_time": "2024-11-10T11:38:16.039920Z",
     "start_time": "2024-11-10T11:38:15.898827Z"
    }
   },
   "cell_type": "code",
   "outputs": [],
   "execution_count": 287,
   "source": [
    "positive_logaritmic_probability, positive_unknown_probability=logaritmic_probabilities(bow_positive_unigram_with_punctuation, total_positive_words, size, 1)\n",
    "negative_logaritmic_probability, negative_unknown_probability=logaritmic_probabilities(bow_negative_unigram_with_punctuation, total_negative_words, size, 1)\n"
   ],
   "id": "ff63f3efe48a7cd9"
  },
  {
   "metadata": {
    "ExecuteTime": {
     "end_time": "2024-11-10T11:38:38.920232Z",
     "start_time": "2024-11-10T11:38:38.061652Z"
    }
   },
   "cell_type": "code",
   "source": [
    "accuracy=calculate_accuracy(test_texts,true_labels)\n",
    "print(f\"Model Accuracy: {accuracy}\")"
   ],
   "id": "422ffbd614116a6c",
   "outputs": [
    {
     "name": "stdout",
     "output_type": "stream",
     "text": [
      "Model Accuracy: 0.7034\n"
     ]
    }
   ],
   "execution_count": 288
  },
  {
   "metadata": {
    "ExecuteTime": {
     "end_time": "2024-11-10T11:38:46.163744Z",
     "start_time": "2024-11-10T11:38:45.444433Z"
    }
   },
   "cell_type": "code",
   "source": [
    "precision=calculate_precision(test_texts, true_labels)\n",
    "print(f\"Model Precision: {precision}\")"
   ],
   "id": "23c3e9f6f055b4bb",
   "outputs": [
    {
     "name": "stdout",
     "output_type": "stream",
     "text": [
      "Model Precision: 0.9583150504607284\n"
     ]
    }
   ],
   "execution_count": 289
  },
  {
   "metadata": {
    "ExecuteTime": {
     "end_time": "2024-11-10T11:38:53.609907Z",
     "start_time": "2024-11-10T11:38:52.876012Z"
    }
   },
   "cell_type": "code",
   "source": [
    "recall=calculate_recall(test_texts, true_labels)\n",
    "print(f\"Model Recall: {recall}\")"
   ],
   "id": "479cdaec9fc40a75",
   "outputs": [
    {
     "name": "stdout",
     "output_type": "stream",
     "text": [
      "Model Recall: 0.4320474777448071\n"
     ]
    }
   ],
   "execution_count": 290
  },
  {
   "metadata": {
    "ExecuteTime": {
     "end_time": "2024-11-10T11:39:00.616234Z",
     "start_time": "2024-11-10T11:39:00.611247Z"
    }
   },
   "cell_type": "code",
   "source": [
    "f1=(2*precision*recall)/(precision+recall)\n",
    "print(f\"F1 Score: {f1}\")"
   ],
   "id": "5482187ec3d69de5",
   "outputs": [
    {
     "name": "stdout",
     "output_type": "stream",
     "text": [
      "F1 Score: 0.5955822197982003\n"
     ]
    }
   ],
   "execution_count": 291
  },
  {
   "metadata": {
    "ExecuteTime": {
     "end_time": "2024-11-10T11:31:03.834226Z",
     "start_time": "2024-11-10T11:31:03.829672Z"
    }
   },
   "cell_type": "code",
   "source": "print(\"--------------------------------------------------\")",
   "id": "ffd51067185f26bf",
   "outputs": [
    {
     "name": "stdout",
     "output_type": "stream",
     "text": [
      "--------------------------------------------------\n"
     ]
    }
   ],
   "execution_count": 281
  },
  {
   "metadata": {
    "ExecuteTime": {
     "end_time": "2024-11-10T11:30:50.338298Z",
     "start_time": "2024-11-10T11:30:50.333244Z"
    }
   },
   "cell_type": "code",
   "source": [
    "##Classification Result with Unigram and No Punctuation\n",
    "print(\"Classification Result with Unigram and No Punctuation are Below:\")"
   ],
   "id": "f6e4dc2aebe5b20c",
   "outputs": [
    {
     "name": "stdout",
     "output_type": "stream",
     "text": [
      "Classification Result with Unigram and No Punctuation are Below:\n"
     ]
    }
   ],
   "execution_count": 280
  },
  {
   "metadata": {
    "ExecuteTime": {
     "end_time": "2024-11-10T11:47:29.602487Z",
     "start_time": "2024-11-10T11:47:23.233446Z"
    }
   },
   "cell_type": "code",
   "source": [
    "bow_positive_unigram_without_punctuation=create_bow(positive_reviews_train, 1, False)\n",
    "bow_negative_unigram_without_punctuation=create_bow(negative_reviews_train, 1, False)"
   ],
   "id": "5d14d041fbefa0f9",
   "outputs": [],
   "execution_count": 294
  },
  {
   "metadata": {
    "ExecuteTime": {
     "end_time": "2024-11-10T11:47:36.444183Z",
     "start_time": "2024-11-10T11:47:36.369445Z"
    }
   },
   "cell_type": "code",
   "source": [
    "size=len(set(bow_positive_unigram_without_punctuation.keys()).union(bow_negative_unigram_without_punctuation.keys()))\n",
    "total_positive_words=sum(bow_positive_unigram_without_punctuation.values())\n",
    "total_negative_words=sum(bow_negative_unigram_without_punctuation.values())"
   ],
   "id": "2a60ceadc7ec3d65",
   "outputs": [],
   "execution_count": 295
  },
  {
   "metadata": {
    "ExecuteTime": {
     "end_time": "2024-11-10T11:47:44.703086Z",
     "start_time": "2024-11-10T11:47:44.520356Z"
    }
   },
   "cell_type": "code",
   "source": [
    "positive_logaritmic_probability, positive_unknown_probability=logaritmic_probabilities(bow_positive_unigram_without_punctuation, total_positive_words, size, 1)\n",
    "negative_logaritmic_probability, negative_unknown_probability=logaritmic_probabilities(bow_negative_unigram_without_punctuation, total_negative_words, size, 1)\n"
   ],
   "id": "991faa4292beb7f7",
   "outputs": [],
   "execution_count": 296
  },
  {
   "metadata": {
    "ExecuteTime": {
     "end_time": "2024-11-10T11:47:52.766899Z",
     "start_time": "2024-11-10T11:47:52.002916Z"
    }
   },
   "cell_type": "code",
   "source": [
    "accuracy=calculate_accuracy(test_texts,true_labels)\n",
    "print(f\"Model Accuracy: {accuracy}\")"
   ],
   "id": "2160844b6e098272",
   "outputs": [
    {
     "name": "stdout",
     "output_type": "stream",
     "text": [
      "Model Accuracy: 0.858\n"
     ]
    }
   ],
   "execution_count": 297
  },
  {
   "metadata": {
    "ExecuteTime": {
     "end_time": "2024-11-10T11:48:29.135531Z",
     "start_time": "2024-11-10T11:48:28.210888Z"
    }
   },
   "cell_type": "code",
   "source": [
    "precision=calculate_precision(test_texts, true_labels)\n",
    "print(f\"Model Precision: {precision}\")"
   ],
   "id": "9f6df77abfbf6c8",
   "outputs": [
    {
     "name": "stdout",
     "output_type": "stream",
     "text": [
      "Model Precision: 0.882229232386961\n"
     ]
    }
   ],
   "execution_count": 298
  },
  {
   "metadata": {
    "ExecuteTime": {
     "end_time": "2024-11-10T11:48:36.916849Z",
     "start_time": "2024-11-10T11:48:36.163995Z"
    }
   },
   "cell_type": "code",
   "source": [
    "recall=calculate_recall(test_texts, true_labels)\n",
    "print(f\"Model Recall: {recall}\")"
   ],
   "id": "e753a3474296c773",
   "outputs": [
    {
     "name": "stdout",
     "output_type": "stream",
     "text": [
      "Model Recall: 0.8298714144411474\n"
     ]
    }
   ],
   "execution_count": 299
  },
  {
   "metadata": {
    "ExecuteTime": {
     "end_time": "2024-11-10T11:48:43.985900Z",
     "start_time": "2024-11-10T11:48:43.980498Z"
    }
   },
   "cell_type": "code",
   "source": [
    "f1=(2*precision*recall)/(precision+recall)\n",
    "print(f\"F1 Score: {f1}\")"
   ],
   "id": "93a10065c680738e",
   "outputs": [
    {
     "name": "stdout",
     "output_type": "stream",
     "text": [
      "F1 Score: 0.8552497451580021\n"
     ]
    }
   ],
   "execution_count": 300
  },
  {
   "metadata": {
    "ExecuteTime": {
     "end_time": "2024-11-10T11:48:51.024378Z",
     "start_time": "2024-11-10T11:48:51.019044Z"
    }
   },
   "cell_type": "code",
   "source": "print(\"--------------------------------------------------\")",
   "id": "8109540ef09dbabc",
   "outputs": [
    {
     "name": "stdout",
     "output_type": "stream",
     "text": [
      "--------------------------------------------------\n"
     ]
    }
   ],
   "execution_count": 301
  },
  {
   "metadata": {
    "ExecuteTime": {
     "end_time": "2024-11-10T11:49:19.857551Z",
     "start_time": "2024-11-10T11:49:19.853462Z"
    }
   },
   "cell_type": "code",
   "source": [
    "##Classification Result with Bigram and  Punctuation\n",
    "print(\"Classification Result with Bigram and Punctuation are Below:\")"
   ],
   "id": "9dc9892bf11fcb81",
   "outputs": [
    {
     "name": "stdout",
     "output_type": "stream",
     "text": [
      "Classification Result with Bigram and Punctuation are Below:\n"
     ]
    }
   ],
   "execution_count": 302
  },
  {
   "metadata": {
    "ExecuteTime": {
     "end_time": "2024-11-10T11:50:00.938068Z",
     "start_time": "2024-11-10T11:49:51.702059Z"
    }
   },
   "cell_type": "code",
   "source": [
    "bow_positive_bigram_with_punctuation=create_bow(positive_reviews_train, 2, True)\n",
    "bow_negative_bigram_with_punctuation=create_bow(negative_reviews_train, 2, True)"
   ],
   "id": "500a36c1b53932b9",
   "outputs": [],
   "execution_count": 303
  },
  {
   "metadata": {
    "ExecuteTime": {
     "end_time": "2024-11-10T11:51:08.598168Z",
     "start_time": "2024-11-10T11:51:08.026576Z"
    }
   },
   "cell_type": "code",
   "source": [
    "size=len(set(bow_positive_bigram_with_punctuation.keys()).union(bow_negative_bigram_with_punctuation.keys()))\n",
    "total_positive_words=sum(bow_positive_bigram_with_punctuation.values())\n",
    "total_negative_words=sum(bow_negative_bigram_with_punctuation.values())"
   ],
   "id": "c800094deb25a322",
   "outputs": [],
   "execution_count": 304
  },
  {
   "metadata": {
    "ExecuteTime": {
     "end_time": "2024-11-10T11:51:34.345393Z",
     "start_time": "2024-11-10T11:51:32.903518Z"
    }
   },
   "cell_type": "code",
   "source": [
    "positive_logaritmic_probability, positive_unknown_probability=logaritmic_probabilities(bow_positive_bigram_with_punctuation, total_positive_words, size, 1)\n",
    "negative_logaritmic_probability, negative_unknown_probability=logaritmic_probabilities(bow_negative_bigram_with_punctuation, total_negative_words, size, 1)"
   ],
   "id": "ff2f3473a5653461",
   "outputs": [],
   "execution_count": 305
  },
  {
   "metadata": {
    "ExecuteTime": {
     "end_time": "2024-11-10T11:52:15.305751Z",
     "start_time": "2024-11-10T11:52:14.450417Z"
    }
   },
   "cell_type": "code",
   "source": [
    "accuracy=calculate_accuracy(test_texts,true_labels)\n",
    "print(f\"Model Accuracy: {accuracy}\")"
   ],
   "id": "9768490d2f6b0f7a",
   "outputs": [
    {
     "name": "stdout",
     "output_type": "stream",
     "text": [
      "Model Accuracy: 0.5057\n"
     ]
    }
   ],
   "execution_count": 306
  },
  {
   "metadata": {
    "ExecuteTime": {
     "end_time": "2024-11-10T11:52:26.337409Z",
     "start_time": "2024-11-10T11:52:25.608381Z"
    }
   },
   "cell_type": "code",
   "source": [
    "precision=calculate_precision(test_texts, true_labels)\n",
    "print(f\"Model Precision: {precision}\")"
   ],
   "id": "46fe8f1f65797e03",
   "outputs": [
    {
     "name": "stdout",
     "output_type": "stream",
     "text": [
      "Model Precision: 0.5056022408963585\n"
     ]
    }
   ],
   "execution_count": 307
  },
  {
   "metadata": {
    "ExecuteTime": {
     "end_time": "2024-11-10T11:52:37.343089Z",
     "start_time": "2024-11-10T11:52:36.640331Z"
    }
   },
   "cell_type": "code",
   "source": [
    "recall=calculate_recall(test_texts, true_labels)\n",
    "print(f\"Model Recall: {recall}\")"
   ],
   "id": "4db5301684fa6070",
   "outputs": [
    {
     "name": "stdout",
     "output_type": "stream",
     "text": [
      "Model Recall: 0.9998021760633037\n"
     ]
    }
   ],
   "execution_count": 308
  },
  {
   "metadata": {
    "ExecuteTime": {
     "end_time": "2024-11-10T11:52:47.658231Z",
     "start_time": "2024-11-10T11:52:47.652107Z"
    }
   },
   "cell_type": "code",
   "source": [
    "f1=(2*precision*recall)/(precision+recall)\n",
    "print(f\"F1 Score: {f1}\")"
   ],
   "id": "c0f3314e7888586d",
   "outputs": [
    {
     "name": "stdout",
     "output_type": "stream",
     "text": [
      "F1 Score: 0.6715832835027573\n"
     ]
    }
   ],
   "execution_count": 309
  },
  {
   "metadata": {
    "ExecuteTime": {
     "end_time": "2024-11-10T11:52:58.145811Z",
     "start_time": "2024-11-10T11:52:58.140857Z"
    }
   },
   "cell_type": "code",
   "source": "print(\"--------------------------------------------------\")",
   "id": "ce30775b1a78942b",
   "outputs": [
    {
     "name": "stdout",
     "output_type": "stream",
     "text": [
      "--------------------------------------------------\n"
     ]
    }
   ],
   "execution_count": 310
  },
  {
   "metadata": {
    "ExecuteTime": {
     "end_time": "2024-11-10T11:58:45.186220Z",
     "start_time": "2024-11-10T11:58:45.182167Z"
    }
   },
   "cell_type": "code",
   "source": [
    "##Classification Result with Bigram and No Punctuation\n",
    "print(\"Classification Result with Bigram and No Punctuation are Below:\")"
   ],
   "id": "25df65610ca2f123",
   "outputs": [
    {
     "name": "stdout",
     "output_type": "stream",
     "text": [
      "Classification Result with Bigram and No Punctuation are Below:\n"
     ]
    }
   ],
   "execution_count": 311
  },
  {
   "metadata": {
    "ExecuteTime": {
     "end_time": "2024-11-10T12:33:17.941920Z",
     "start_time": "2024-11-10T12:33:10.411738Z"
    }
   },
   "cell_type": "code",
   "source": [
    "bow_positive_bigram_without_punctuation=create_bow(positive_reviews_train, 2, False)\n",
    "bow_negative_bigram_without_punctuation=create_bow(negative_reviews_train, 2, False)"
   ],
   "id": "38d47adaaebd6f2e",
   "outputs": [],
   "execution_count": 336
  },
  {
   "metadata": {
    "ExecuteTime": {
     "end_time": "2024-11-10T12:39:42.633007Z",
     "start_time": "2024-11-10T12:39:42.039422Z"
    }
   },
   "cell_type": "code",
   "source": [
    "size=len(set(bow_positive_bigram_without_punctuation.keys()).union(bow_negative_bigram_without_punctuation.keys()))\n",
    "total_positive_words=sum(bow_positive_bigram_without_punctuation.values())\n",
    "total_negative_words=sum(bow_negative_bigram_without_punctuation.values())"
   ],
   "id": "2a925828aa7cfb3a",
   "outputs": [],
   "execution_count": 337
  },
  {
   "metadata": {
    "ExecuteTime": {
     "end_time": "2024-11-10T12:40:04.820287Z",
     "start_time": "2024-11-10T12:40:03.014328Z"
    }
   },
   "cell_type": "code",
   "source": [
    "positive_logaritmic_probability, positive_unknown_probability=logaritmic_probabilities(bow_positive_bigram_without_punctuation, total_positive_words, size, 1)\n",
    "negative_logaritmic_probability, negative_unknown_probability=logaritmic_probabilities(bow_negative_bigram_without_punctuation, total_negative_words, size, 1)"
   ],
   "id": "1d9520a3e25f1a68",
   "outputs": [],
   "execution_count": 338
  },
  {
   "metadata": {
    "ExecuteTime": {
     "end_time": "2024-11-10T12:44:56.655044Z",
     "start_time": "2024-11-10T12:44:55.630590Z"
    }
   },
   "cell_type": "code",
   "source": [
    "accuracy=calculate_accuracy(test_texts,true_labels)\n",
    "print(f\"Model Accuracy: {accuracy}\")"
   ],
   "id": "4213643bb87ec1b8",
   "outputs": [
    {
     "name": "stdout",
     "output_type": "stream",
     "text": [
      "Model Accuracy: 0.5057\n"
     ]
    }
   ],
   "execution_count": 339
  },
  {
   "metadata": {
    "ExecuteTime": {
     "end_time": "2024-11-10T12:45:14.426836Z",
     "start_time": "2024-11-10T12:45:13.665929Z"
    }
   },
   "cell_type": "code",
   "source": [
    "precision=calculate_precision(test_texts, true_labels)\n",
    "print(f\"Model Precision: {precision}\")"
   ],
   "id": "46f2ba80d5dd6271",
   "outputs": [
    {
     "name": "stdout",
     "output_type": "stream",
     "text": [
      "Model Precision: 0.5056011202240448\n"
     ]
    }
   ],
   "execution_count": 340
  },
  {
   "metadata": {
    "ExecuteTime": {
     "end_time": "2024-11-10T12:45:32.266324Z",
     "start_time": "2024-11-10T12:45:31.507683Z"
    }
   },
   "cell_type": "code",
   "source": [
    "recall=calculate_recall(test_texts, true_labels)\n",
    "print(f\"Model Recall: {recall}\")"
   ],
   "id": "bf92c84d445dd7d7",
   "outputs": [
    {
     "name": "stdout",
     "output_type": "stream",
     "text": [
      "Model Recall: 1.0\n"
     ]
    }
   ],
   "execution_count": 341
  },
  {
   "metadata": {
    "ExecuteTime": {
     "end_time": "2024-11-10T12:47:37.992257Z",
     "start_time": "2024-11-10T12:47:37.987973Z"
    }
   },
   "cell_type": "code",
   "source": [
    "f1=(2*precision*recall)/(precision+recall)\n",
    "print(f\"F1 Score: {f1}\")"
   ],
   "id": "ecc15272cd6067f5",
   "outputs": [
    {
     "name": "stdout",
     "output_type": "stream",
     "text": [
      "F1 Score: 0.6716269182222813\n"
     ]
    }
   ],
   "execution_count": 342
  },
  {
   "metadata": {
    "ExecuteTime": {
     "end_time": "2024-11-10T12:14:36.562265Z",
     "start_time": "2024-11-10T12:14:36.557595Z"
    }
   },
   "cell_type": "code",
   "source": "print(\"--------------------------------------------------\")",
   "id": "3fd46dba8439c16a",
   "outputs": [
    {
     "name": "stdout",
     "output_type": "stream",
     "text": [
      "--------------------------------------------------\n"
     ]
    }
   ],
   "execution_count": 325
  },
  {
   "metadata": {
    "ExecuteTime": {
     "end_time": "2024-11-10T12:32:21.462967Z",
     "start_time": "2024-11-10T12:32:21.458464Z"
    }
   },
   "cell_type": "code",
   "source": [
    "##Classification Result with Trigram and No Punctuation\n",
    "print(\"Classification Result with Trigram and No Punctuation are Below:\")"
   ],
   "id": "35c26cec0ff8cdad",
   "outputs": [
    {
     "name": "stdout",
     "output_type": "stream",
     "text": [
      "Classification Result with Trigram and No Punctuation are Below:\n"
     ]
    }
   ],
   "execution_count": 334
  },
  {
   "metadata": {
    "ExecuteTime": {
     "end_time": "2024-11-10T12:28:55.004157Z",
     "start_time": "2024-11-10T12:28:46.443492Z"
    }
   },
   "cell_type": "code",
   "source": [
    "bow_positive_trigram_without_punctuation=create_bow(positive_reviews_train, 3, False)\n",
    "bow_negative_trigram_without_punctuation=create_bow(negative_reviews_train, 3, False)"
   ],
   "id": "41e9819d6da85ff2",
   "outputs": [],
   "execution_count": 326
  },
  {
   "metadata": {
    "ExecuteTime": {
     "end_time": "2024-11-10T12:29:57.251674Z",
     "start_time": "2024-11-10T12:29:56.049602Z"
    }
   },
   "cell_type": "code",
   "source": [
    "size=len(set(bow_positive_trigram_without_punctuation.keys()).union(bow_negative_trigram_without_punctuation.keys()))\n",
    "total_positive_words=sum(bow_positive_trigram_without_punctuation.values())\n",
    "total_negative_words=sum(bow_negative_trigram_without_punctuation.values())"
   ],
   "id": "332ee9aff42f26c",
   "outputs": [],
   "execution_count": 327
  },
  {
   "metadata": {
    "ExecuteTime": {
     "end_time": "2024-11-10T12:30:21.757200Z",
     "start_time": "2024-11-10T12:30:18.798325Z"
    }
   },
   "cell_type": "code",
   "source": [
    "positive_logaritmic_probability, positive_unknown_probability=logaritmic_probabilities(bow_positive_trigram_without_punctuation, total_positive_words, size, 1)\n",
    "negative_logaritmic_probability, negative_unknown_probability=logaritmic_probabilities(bow_negative_trigram_without_punctuation, total_negative_words, size, 1)"
   ],
   "id": "3af866f38917dd0",
   "outputs": [],
   "execution_count": 328
  },
  {
   "metadata": {
    "ExecuteTime": {
     "end_time": "2024-11-10T12:30:41.760595Z",
     "start_time": "2024-11-10T12:30:41.045056Z"
    }
   },
   "cell_type": "code",
   "source": [
    "accuracy=calculate_accuracy(test_texts,true_labels)\n",
    "print(f\"Model Accuracy: {accuracy}\")"
   ],
   "id": "3e10461c447b143a",
   "outputs": [
    {
     "name": "stdout",
     "output_type": "stream",
     "text": [
      "Model Accuracy: 0.5056\n"
     ]
    }
   ],
   "execution_count": 329
  },
  {
   "metadata": {
    "ExecuteTime": {
     "end_time": "2024-11-10T12:31:02.552067Z",
     "start_time": "2024-11-10T12:31:01.759839Z"
    }
   },
   "cell_type": "code",
   "source": [
    "recall=calculate_recall(test_texts, true_labels)\n",
    "print(f\"Model Recall: {recall}\")"
   ],
   "id": "31b683ae79a3fb93",
   "outputs": [
    {
     "name": "stdout",
     "output_type": "stream",
     "text": [
      "Model Recall: 0.9998021760633037\n"
     ]
    }
   ],
   "execution_count": 330
  },
  {
   "metadata": {
    "ExecuteTime": {
     "end_time": "2024-11-10T12:31:24.076677Z",
     "start_time": "2024-11-10T12:31:23.194357Z"
    }
   },
   "cell_type": "code",
   "source": [
    "precision=calculate_precision(test_texts, true_labels)\n",
    "print(f\"Model Precision: {precision}\")"
   ],
   "id": "d65632a0ab6e254b",
   "outputs": [
    {
     "name": "stdout",
     "output_type": "stream",
     "text": [
      "Model Precision: 0.5055516654996499\n"
     ]
    }
   ],
   "execution_count": 331
  },
  {
   "metadata": {
    "ExecuteTime": {
     "end_time": "2024-11-10T12:31:42.668225Z",
     "start_time": "2024-11-10T12:31:42.662687Z"
    }
   },
   "cell_type": "code",
   "source": [
    "f1=(2*precision*recall)/(precision+recall)\n",
    "print(f\"F1 Score: {f1}\")"
   ],
   "id": "79c1bf17805aa257",
   "outputs": [
    {
     "name": "stdout",
     "output_type": "stream",
     "text": [
      "F1 Score: 0.6715386659580123\n"
     ]
    }
   ],
   "execution_count": 332
  },
  {
   "metadata": {
    "ExecuteTime": {
     "end_time": "2024-11-10T12:32:02.936374Z",
     "start_time": "2024-11-10T12:32:02.931372Z"
    }
   },
   "cell_type": "code",
   "source": "print(\"--------------------------------------------------\")",
   "id": "644a19035de61edd",
   "outputs": [
    {
     "name": "stdout",
     "output_type": "stream",
     "text": [
      "--------------------------------------------------\n"
     ]
    }
   ],
   "execution_count": 333
  },
  {
   "metadata": {
    "ExecuteTime": {
     "end_time": "2024-11-10T12:32:48.624094Z",
     "start_time": "2024-11-10T12:32:48.619139Z"
    }
   },
   "cell_type": "code",
   "source": [
    "##Classification Result with Trigram and Punctuation\n",
    "print(\"Classification Result with Trigram and Punctuation are Below:\")"
   ],
   "id": "a918aed0bafeaf88",
   "outputs": [
    {
     "name": "stdout",
     "output_type": "stream",
     "text": [
      "Classification Result with Trigram and Punctuation are Below:\n"
     ]
    }
   ],
   "execution_count": 335
  },
  {
   "metadata": {
    "ExecuteTime": {
     "end_time": "2024-11-10T12:55:59.969033Z",
     "start_time": "2024-11-10T12:55:49.840055Z"
    }
   },
   "cell_type": "code",
   "source": [
    "bow_positive_trigram_with_punctuation=create_bow(positive_reviews_train, 3, True)\n",
    "bow_negative_trigram_with_punctuation=create_bow(negative_reviews_train, 3, True)"
   ],
   "id": "62e12bed7cec3e8f",
   "outputs": [],
   "execution_count": 343
  },
  {
   "metadata": {
    "ExecuteTime": {
     "end_time": "2024-11-10T13:46:26.677732Z",
     "start_time": "2024-11-10T13:46:25.362778Z"
    }
   },
   "cell_type": "code",
   "source": [
    "size=len(set(bow_positive_trigram_with_punctuation.keys()).union(bow_negative_trigram_with_punctuation.keys()))\n",
    "total_positive_words=sum(bow_positive_trigram_with_punctuation.values())\n",
    "total_negative_words=sum(bow_negative_trigram_with_punctuation.values())"
   ],
   "id": "b41db606f408d7de",
   "outputs": [],
   "execution_count": 344
  },
  {
   "metadata": {
    "ExecuteTime": {
     "end_time": "2024-11-10T13:47:00.969366Z",
     "start_time": "2024-11-10T13:46:57.135894Z"
    }
   },
   "cell_type": "code",
   "source": [
    "positive_logaritmic_probability, positive_unknown_probability=logaritmic_probabilities(bow_positive_trigram_with_punctuation, total_positive_words, size, 1)\n",
    "negative_logaritmic_probability, negative_unknown_probability=logaritmic_probabilities(bow_negative_trigram_with_punctuation, total_negative_words, size, 1)"
   ],
   "id": "88108c6e154fbbcc",
   "outputs": [],
   "execution_count": 345
  },
  {
   "metadata": {
    "ExecuteTime": {
     "end_time": "2024-11-10T13:47:32.523403Z",
     "start_time": "2024-11-10T13:47:31.537712Z"
    }
   },
   "cell_type": "code",
   "source": [
    "accuracy=calculate_accuracy(test_texts,true_labels)\n",
    "print(f\"Model Accuracy: {accuracy}\")"
   ],
   "id": "e1365f7c21c1d292",
   "outputs": [
    {
     "name": "stdout",
     "output_type": "stream",
     "text": [
      "Model Accuracy: 0.5055\n"
     ]
    }
   ],
   "execution_count": 346
  },
  {
   "metadata": {
    "ExecuteTime": {
     "end_time": "2024-11-10T13:47:57.337714Z",
     "start_time": "2024-11-10T13:47:56.570507Z"
    }
   },
   "cell_type": "code",
   "source": [
    "recall=calculate_recall(test_texts, true_labels)\n",
    "print(f\"Model Recall: {recall}\")"
   ],
   "id": "c074f152d90313dc",
   "outputs": [
    {
     "name": "stdout",
     "output_type": "stream",
     "text": [
      "Model Recall: 0.9992087042532146\n"
     ]
    }
   ],
   "execution_count": 347
  },
  {
   "metadata": {
    "ExecuteTime": {
     "end_time": "2024-11-10T13:48:22.113672Z",
     "start_time": "2024-11-10T13:48:21.302358Z"
    }
   },
   "cell_type": "code",
   "source": [
    "precision=calculate_precision(test_texts, true_labels)\n",
    "print(f\"Model Precision: {precision}\")"
   ],
   "id": "e35c3112b4fcac19",
   "outputs": [
    {
     "name": "stdout",
     "output_type": "stream",
     "text": [
      "Model Precision: 0.5055044035228182\n"
     ]
    }
   ],
   "execution_count": 348
  },
  {
   "metadata": {
    "ExecuteTime": {
     "end_time": "2024-11-10T13:48:46.757677Z",
     "start_time": "2024-11-10T13:48:46.754077Z"
    }
   },
   "cell_type": "code",
   "source": [
    "f1=(2*precision*recall)/(precision+recall)\n",
    "print(f\"F1 Score: {f1}\")"
   ],
   "id": "19a8a83b815e774",
   "outputs": [
    {
     "name": "stdout",
     "output_type": "stream",
     "text": [
      "F1 Score: 0.6713630624044661\n"
     ]
    }
   ],
   "execution_count": 349
  },
  {
   "metadata": {
    "ExecuteTime": {
     "end_time": "2024-11-10T13:53:52.819599Z",
     "start_time": "2024-11-10T13:53:52.814079Z"
    }
   },
   "cell_type": "code",
   "source": "print(\"--------------------------------------------------\")",
   "id": "777307f3caab58eb",
   "outputs": [
    {
     "name": "stdout",
     "output_type": "stream",
     "text": [
      "--------------------------------------------------\n"
     ]
    }
   ],
   "execution_count": 350
  },
  {
   "metadata": {
    "ExecuteTime": {
     "end_time": "2024-11-10T14:12:44.038483Z",
     "start_time": "2024-11-10T14:12:44.027176Z"
    }
   },
   "cell_type": "code",
   "source": [
    "from prettytable import PrettyTable\n",
    "\n",
    "x=PrettyTable()\n",
    "\n",
    "x.field_names=['Ngram Type', 'Is Punctuation Used', 'Accuracy', 'Precision', 'Recall', 'F1 Score']\n",
    "x.add_row(['Unigram', 'True', '0.7034','0.9583150504607284', '0.4320474777448071','0.5955822197982003'])\n",
    "x.add_row(['Unigram', 'False', '0.858','0.882229232386961','0.8298714144411474','0.8552497451580021'])\n",
    "x.add_row(['Bigram', 'True', '0.5057','0.5056022408963585','0.9998021760633037','0.6715832835027573'])\n",
    "x.add_row(['Bigram', 'False', '0.5057','0.5056011202240448','1.0','0.6716269182222813'])\n",
    "x.add_row(['Trigram', 'True', '0.5055','0.5055044035228182','0.9992087042532146','0.6713630624044661'])\n",
    "x.add_row(['Trigram', 'False', '0.5056','0.5055516654996499','0.9998021760633037','0.6715386659580123'])\n",
    "print(x)"
   ],
   "id": "82ce2d1bc019720f",
   "outputs": [
    {
     "name": "stdout",
     "output_type": "stream",
     "text": [
      "+------------+---------------------+----------+--------------------+--------------------+--------------------+\n",
      "| Ngram Type | Is Punctuation Used | Accuracy |     Precision      |       Recall       |      F1 Score      |\n",
      "+------------+---------------------+----------+--------------------+--------------------+--------------------+\n",
      "|  Unigram   |         True        |  0.7034  | 0.9583150504607284 | 0.4320474777448071 | 0.5955822197982003 |\n",
      "|  Unigram   |        False        |  0.858   | 0.882229232386961  | 0.8298714144411474 | 0.8552497451580021 |\n",
      "|   Bigram   |         True        |  0.5057  | 0.5056022408963585 | 0.9998021760633037 | 0.6715832835027573 |\n",
      "|   Bigram   |        False        |  0.5057  | 0.5056011202240448 |        1.0         | 0.6716269182222813 |\n",
      "|  Trigram   |         True        |  0.5055  | 0.5055044035228182 | 0.9992087042532146 | 0.6713630624044661 |\n",
      "|  Trigram   |        False        |  0.5056  | 0.5055516654996499 | 0.9998021760633037 | 0.6715386659580123 |\n",
      "+------------+---------------------+----------+--------------------+--------------------+--------------------+\n"
     ]
    }
   ],
   "execution_count": 352
  },
  {
   "metadata": {
    "ExecuteTime": {
     "end_time": "2024-11-10T14:28:02.421018Z",
     "start_time": "2024-11-10T14:28:02.414325Z"
    }
   },
   "cell_type": "code",
   "source": [
    "##REPORT\n",
    "print(\"Report of the project is below:\")"
   ],
   "id": "9ce94cad4aca69d8",
   "outputs": [
    {
     "name": "stdout",
     "output_type": "stream",
     "text": [
      "Report of the project is below:\n"
     ]
    }
   ],
   "execution_count": 353
  },
  {
   "metadata": {},
   "cell_type": "markdown",
   "source": [
    "In this assignment, I tried to solve a classification problem using NLP. Naive Bayes Algorithm is used for classification, n-gram models is used for Bow.\n",
    "\n",
    "First I imported the data and made some visualizations and summaries to understand data better. Then I splitted my data as train and test data with 0.8 train ratio and 0.2 test ratio. Then I implemented Ngram algorithms. I have 2 ngram methods, one is considering punctuation marks as word, the other is not. Then I impleneted a method to remove stop words. I created an array for stop/unnecessary words and in the method, I removed the stop words from parameter text. Then, I implemented create_bow method to create my dictionaries. In this method, first I removed all stopwords from review. Then I used one of the ngram methods according to the parameters that shows punctuation is used and n number for ngrams. Then I implemented logarithmic probabilities calculation method and naive bayes classification method. In naive bayes, unknown probabilities are used too. Finally, I implemented accuracy precision and recall calculation methods to evaluate my models performance.\n",
    "\n",
    "After the implementation parts, I started to testing part. I used 6 test cases as \"Unigram With Punctuation, Unigram With No Punctuation, Bigram With Punctuation, Bigram With No Punctuation, Trigram With Punctuation, Trigram With No Punctuation\". I created bow dict and calculated vocab size, positive/negative logaritmic probabilities and positive/negative unknown probabilities for each cases. Then I evaluated their performances.\n",
    "\n",
    "Unigram With No Punctuation gets highest accuracy and F1 score. Unigram With Punctuation has the second best accuracy, but the lowest F1 score. Bigram and Trigram results are very close to each other, approximately the same values. Their accuracies are lower than Unigram accuracies, but they have better recall values. According to the results, Unigram is the best ngram type for that project, especially when punctuations are not considered as words. For bigram and trigram, punctuation made very small changes. So I could say that one word focused dictionary is better.\n",
    "\n",
    "To get higher accuracies; more unnecessary words may be added to stop word array, text may be preprocessed, TFIDF may be used instead of Bow for extracting, some other models especially neural network based models may be used instead of Naive Bayes."
   ],
   "id": "457a4ac144f6cfa8"
  }
 ],
 "metadata": {
  "kernelspec": {
   "display_name": "Python 3",
   "language": "python",
   "name": "python3"
  },
  "language_info": {
   "codemirror_mode": {
    "name": "ipython",
    "version": 2
   },
   "file_extension": ".py",
   "mimetype": "text/x-python",
   "name": "python",
   "nbconvert_exporter": "python",
   "pygments_lexer": "ipython2",
   "version": "2.7.6"
  }
 },
 "nbformat": 4,
 "nbformat_minor": 5
}
